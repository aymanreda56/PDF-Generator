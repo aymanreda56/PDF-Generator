{
 "cells": [
  {
   "cell_type": "code",
   "execution_count": 12,
   "metadata": {},
   "outputs": [],
   "source": [
    "import docx\n",
    "import io #for StreamIO and StringIO"
   ]
  },
  {
   "cell_type": "code",
   "execution_count": 13,
   "metadata": {},
   "outputs": [
    {
     "data": {
      "text/plain": [
       "<docx.text.paragraph.Paragraph at 0x26cad6ea0d0>"
      ]
     },
     "execution_count": 13,
     "metadata": {},
     "output_type": "execute_result"
    }
   ],
   "source": [
    "document = docx.Document('existing-document-file.docx')\n",
    "\n",
    "#add a title\n",
    "document.add_heading('The REAL meaning of the universe', level=0)\n",
    "\n",
    "#add a heading 1\n",
    "document.add_heading('The REAL meaning of the universe', level=1)\n",
    "\n",
    "#add paragraph\n",
    "paragraph = document.add_paragraph('Lorem ipsum')\n",
    "\n",
    "#add paragraph before another one\n",
    "prior_paragraph = paragraph.insert_paragraph_before(\"\")\n",
    "\n",
    "#add a new page at the end of the current cursor and updates the cursor to the next page, ie the new text will appear in the new page\n",
    "document.add_page_break()\n"
   ]
  },
  {
   "cell_type": "markdown",
   "metadata": {},
   "source": [
    "## Opening a ‘file-like’ document\n",
    "python-docx can open a document from a so-called file-like object. It can also save to a file-like object. This can be handy when you want to get the source or target document over a network connection or from a database and don’t want to (or aren’t allowed to) interact with the file system. In practice this means you can pass an open file or StringIO/BytesIO stream object to open or save a document like so:\n"
   ]
  },
  {
   "cell_type": "code",
   "execution_count": null,
   "metadata": {},
   "outputs": [],
   "source": [
    "\n",
    "f = open('foobar.docx', 'rb')\n",
    "document = docx.Document(f)\n",
    "f.close()\n",
    "\n",
    "# or\n",
    "\n",
    "with open('foobar.docx', 'rb') as f:\n",
    "    source_stream = io.StringIO(f.read())\n",
    "document = docx.Document(source_stream)\n",
    "source_stream.close()\n",
    "#...\n",
    "target_stream = io.StringIO()\n",
    "document.save(target_stream)\n",
    "#The 'rb' file open mode parameter isn’t required on all operating systems. It defaults to 'r' which is enough sometimes, but the ‘b’ (selecting binary mode) is required on Windows and at least some versions of Linux to allow Zipfile to open the file.\n",
    "\n",
    "#Okay, so you’ve got a document open and are pretty sure you can save it somewhere later. Next step is to get some content in there …"
   ]
  },
  {
   "cell_type": "markdown",
   "metadata": {},
   "source": [
    "## Paragraphs and tables"
   ]
  },
  {
   "cell_type": "code",
   "execution_count": 16,
   "metadata": {},
   "outputs": [],
   "source": [
    "#adding a table\n",
    "table = document.add_table(rows=2, cols=2)\n",
    "\n",
    "#accessing a cell has a lot of methods, you can access cells using cell index (row, column) like so:\n",
    "cell = table.cell(0, 0) # --> this returns a pointer to the targeted cell\n",
    "\n",
    "#modify the content of this cell\n",
    "cell.text = \"hello\"\n",
    "\n",
    "#Let's populate a simple table using this niche method\n",
    "table.cell(0,1).text = \"I am\"\n",
    "table.cell(1,0).text = \"Ayman\"\n",
    "table.cell(1,1).text = \"Mohamed\"\n",
    "\n",
    "#Frequently it’s easier to access a row of cells at a time,\n",
    "#for example when populating a table of variable length from a data source.\n",
    "#The .rows property of a table provides access to individual rows, each of which has a .cells property.\n",
    "#The .cells property on both Row and Column supports indexed access, like a list:\n",
    "table = document.add_table(rows=3, cols=3)\n",
    "row = table.rows[1]\n",
    "row.cells[0].text = 'Foo bar to you.'\n",
    "row.cells[1].text = 'And a hearty foo bar to you too sir!'\n",
    "\n",
    "#You can also add rows to a table incrementally like so:\n",
    "\n",
    "row = table.add_row()\n",
    "\n",
    "\n",
    "\n",
    "#to print the entire table row by row, and cell by cell\n",
    "for row in table.rows:\n",
    "    for cell in row.cells:\n",
    "        print(cell.text)\n",
    "\n",
    "\n",
    "\n",
    "\n",
    "\n",
    "#This can be very handy for the variable length table scenario we mentioned above:\n",
    "\n",
    "# get table data -------------\n",
    "items = (\n",
    "    (7, '1024', 'Plush kittens'),\n",
    "    (3, '2042', 'Furbees'),\n",
    "    (1, '1288', 'French Poodle Collars, Deluxe'),\n",
    ")\n",
    "\n",
    "# add table ------------------\n",
    "table = document.add_table(1, 3)\n",
    "\n",
    "# populate header row --------\n",
    "heading_cells = table.rows[0].cells\n",
    "heading_cells[0].text = 'Qty'\n",
    "heading_cells[1].text = 'SKU'\n",
    "heading_cells[2].text = 'Description'\n",
    "\n",
    "# add a data row for each item\n",
    "for item in items:\n",
    "    cells = table.add_row().cells\n",
    "    cells[0].text = str(item.qty)\n",
    "    cells[1].text = item.sku\n",
    "    cells[2].text = item.desc\n",
    "\n",
    "\n"
   ]
  },
  {
   "cell_type": "markdown",
   "metadata": {},
   "source": [
    "## Pictures' manipulations"
   ]
  },
  {
   "cell_type": "code",
   "execution_count": null,
   "metadata": {},
   "outputs": [],
   "source": [
    "# to add a picture:\n",
    "document.add_picture('image-filename.png')\n",
    "\n",
    "#You can also use a file-like object, essentially any object that acts like an open file,\n",
    "#This might be handy if you’re retrieving your image from a database or over a network and don’t want to get the filesystem involved.\n",
    "\n",
    "\n",
    "\n",
    "#Image size\n",
    "#By default, the added image appears at native size. This is often bigger than you want. Native size is calculated as pixels / dpi. So a 300x300 pixel image having 300 dpi resolution appears in a one inch square. The problem is most images don’t contain a dpi property and it defaults to 72 dpi. This would make the same image appear 4.167 inches on a side, somewhere around half the page.\n",
    "\n",
    "#To get the image the size you want, you can specify either its width or height in convenient units, like inches or centimeters:\n",
    "\n",
    "from docx.shared import Inches\n",
    "\n",
    "document.add_picture('image-filename.png', width=Inches(1.0))"
   ]
  },
  {
   "cell_type": "code",
   "execution_count": 15,
   "metadata": {},
   "outputs": [],
   "source": [
    "\n",
    "\n",
    "#saving a word document\n",
    "document.save('demo.docx')"
   ]
  }
 ],
 "metadata": {
  "kernelspec": {
   "display_name": "Python 3",
   "language": "python",
   "name": "python3"
  },
  "language_info": {
   "codemirror_mode": {
    "name": "ipython",
    "version": 3
   },
   "file_extension": ".py",
   "mimetype": "text/x-python",
   "name": "python",
   "nbconvert_exporter": "python",
   "pygments_lexer": "ipython3",
   "version": "3.11.5"
  }
 },
 "nbformat": 4,
 "nbformat_minor": 2
}
